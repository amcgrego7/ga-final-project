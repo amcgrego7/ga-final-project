{
 "cells": [
  {
   "cell_type": "markdown",
   "metadata": {},
   "source": [
    "# Kickstarter Launches... Let's predict the outcome!\n",
    "### https://www.kaggle.com/codename007/funding-successful-projects\n",
    "### https://webrobots.io/kickstarter-datasets/\n"
   ]
  },
  {
   "cell_type": "code",
   "execution_count": 37,
   "metadata": {
    "collapsed": true
   },
   "outputs": [],
   "source": [
    "import pandas as pd\n",
    "pd.options.display.float_format = '{:20,.2f}'.format\n",
    "import numpy as np\n",
    "from numpy.random import seed, randint\n",
    "import matplotlib.pyplot as plt\n",
    "import seaborn as sns\n",
    "import datetime    \n",
    "import dateutil.parser\n",
    "import zipfile\n",
    "import math\n",
    "from datetime import datetime\n",
    "#modeling \n",
    "import scipy as sp\n",
    "from sklearn.model_selection import train_test_split\n",
    "from sklearn.feature_extraction.text import CountVectorizer, TfidfVectorizer\n",
    "from sklearn.naive_bayes import MultinomialNB         # Naive Bayes\n",
    "from sklearn.linear_model import LogisticRegression\n",
    "from sklearn.tree import DecisionTreeClassifier\n",
    "from sklearn.ensemble import RandomForestClassifier\n",
    "from sklearn.model_selection import cross_val_score\n",
    "from sklearn import metrics\n",
    "\n",
    "from textblob import TextBlob, Word\n",
    "from nltk.stem.snowball import SnowballStemmer\n",
    "from sklearn.feature_extraction import text \n",
    "\n",
    "#natural language processing\n",
    "from textblob import TextBlob, Word\n",
    "\n",
    "plt.style.use('fivethirtyeight')\n",
    "%matplotlib inline"
   ]
  },
  {
   "cell_type": "markdown",
   "metadata": {},
   "source": [
    "# Get Data "
   ]
  },
  {
   "cell_type": "code",
   "execution_count": 2,
   "metadata": {},
   "outputs": [
    {
     "name": "stdout",
     "output_type": "stream",
     "text": [
      "(169832, 32)\n"
     ]
    }
   ],
   "source": [
    "# The following opens a zip file, returns all the contents in the zip file (csvs), \n",
    "# and concats the files into a single dataframe\n",
    "\n",
    "flag=0 # flag is used to to track the first instance to build an intial data frame called \"data\"\n",
    "with zipfile.ZipFile('./Data/Kickstarter_2017-08-15T22_20_51_958Z.zip') as z:\n",
    "    files = z.namelist()\n",
    "    # loop through each file\n",
    "    for f in files:\n",
    "    #if first instance, build initial data frame called data\n",
    "        with z.open(f) as f:\n",
    "            if flag == 0:\n",
    "                data = pd.DataFrame.from_csv(f)\n",
    "                flag += 1\n",
    "            else:\n",
    "    #if data already exisits, we concat future csvs\n",
    "                df = pd.DataFrame.from_csv(f)\n",
    "                data = pd.concat([data, df])\n",
    "\n",
    "            \n",
    "# to validate that we have the data!\n",
    "print data.shape\n",
    "data = data.set_index([range(0, len(data))])"
   ]
  },
  {
   "cell_type": "code",
   "execution_count": 3,
   "metadata": {},
   "outputs": [
    {
     "name": "stdout",
     "output_type": "stream",
     "text": [
      "min date: 1240602723\n",
      "max date: 1502855796\n"
     ]
    }
   ],
   "source": [
    "print 'min date: '+str(data.launched_at.min())\n",
    "print 'max date: '+str(data.launched_at.max())"
   ]
  },
  {
   "cell_type": "code",
   "execution_count": 4,
   "metadata": {},
   "outputs": [
    {
     "data": {
      "text/plain": [
       "<matplotlib.axes._subplots.AxesSubplot at 0xd0f4438>"
      ]
     },
     "execution_count": 4,
     "metadata": {},
     "output_type": "execute_result"
    },
    {
     "data": {
      "image/png": "[encoded data removed]",
      "text/plain": [
       "<matplotlib.figure.Figure at 0x493b470>"
      ]
     },
     "metadata": {},
     "output_type": "display_data"
    }
   ],
   "source": [
    "#exploring the target variable 'state\n",
    "#take note that projects not only fail or succeed, they can also be cancelled, live, or suspended...\n",
    "data.state.value_counts().plot(kind='bar', rot='0')"
   ]
  },
  {
   "cell_type": "code",
   "execution_count": 5,
   "metadata": {
    "collapsed": true
   },
   "outputs": [],
   "source": [
    "#let's encode the state variable\n",
    "#we don't need live or suspended projects since they are ongoing\n",
    "data= data[(data.state != 'live') & (data.state != 'suspended')]\n",
    "\n",
    "# we will count a canceled project as failed\n",
    "# use map to code the outcome variable\n",
    "data['state_num'] = data.state.map({'failed':0, 'successful': 1, 'canceled': 0})"
   ]
  },
  {
   "cell_type": "code",
   "execution_count": 6,
   "metadata": {},
   "outputs": [
    {
     "name": "stdout",
     "output_type": "stream",
     "text": [
      "failed        89431\n",
      "successful    76055\n",
      "Name: state_image, dtype: int64\n"
     ]
    },
    {
     "data": {
      "image/png": "[encoded data removed]",
      "text/plain": [
       "<matplotlib.figure.Figure at 0x411ed160>"
      ]
     },
     "metadata": {},
     "output_type": "display_data"
    }
   ],
   "source": [
    "# Just to show after the fact what our target classification variables are \n",
    "data['state_image'] = data.state.map({'failed':'failed', 'successful': 'successful', 'canceled': 'failed'})\n",
    "data.state_image.value_counts().plot(kind='bar', rot=1)\n",
    "\n",
    "print data.state_image.value_counts()"
   ]
  },
  {
   "cell_type": "markdown",
   "metadata": {},
   "source": [
    "# Let's do some EDA"
   ]
  },
  {
   "cell_type": "code",
   "execution_count": 7,
   "metadata": {},
   "outputs": [
    {
     "name": "stdout",
     "output_type": "stream",
     "text": [
      "count             165,486.00\n",
      "mean               49,910.05\n",
      "std             1,222,089.17\n",
      "min                     0.01\n",
      "25%                 2,000.00\n",
      "50%                 5,000.00\n",
      "75%                15,000.00\n",
      "max           100,000,000.00\n",
      "Name: goal, dtype: float64\n"
     ]
    },
    {
     "data": {
      "text/plain": [
       "<matplotlib.axes._subplots.AxesSubplot at 0x2bd2f898>"
      ]
     },
     "execution_count": 7,
     "metadata": {},
     "output_type": "execute_result"
    },
    {
     "data": {
      "image/png": "[encoded data removed]",
      "text/plain": [
       "<matplotlib.figure.Figure at 0x35335048>"
      ]
     },
     "metadata": {},
     "output_type": "display_data"
    }
   ],
   "source": [
    "#the goal has some serious outliers\n",
    "print data.goal.describe()\n",
    "\n",
    "#I decided to just keep the records where the goal is 1,000,000 or less\n",
    "data = data[data.goal < 1000001]\n",
    "data.goal.plot(kind='box')"
   ]
  },
  {
   "cell_type": "code",
   "execution_count": 8,
   "metadata": {},
   "outputs": [
    {
     "name": "stdout",
     "output_type": "stream",
     "text": [
      "failed        88913\n",
      "successful    76044\n",
      "Name: state_image, dtype: int64\n"
     ]
    },
    {
     "data": {
      "image/png": "[encoded data removed]",
      "text/plain": [
       "<matplotlib.figure.Figure at 0x41fd7278>"
      ]
     },
     "metadata": {},
     "output_type": "display_data"
    }
   ],
   "source": [
    "data['state_image'] = data.state.map({'failed':'failed', 'successful': 'successful', 'canceled': 'failed'})\n",
    "data.state_image.value_counts().plot(kind='bar', rot=1)\n",
    "\n",
    "print data.state_image.value_counts()"
   ]
  },
  {
   "cell_type": "code",
   "execution_count": 9,
   "metadata": {},
   "outputs": [
    {
     "name": "stdout",
     "output_type": "stream",
     "text": [
      "False    164957\n",
      "Name: disable_communication, dtype: int64\n"
     ]
    }
   ],
   "source": [
    "# let's identify what columns should be dropped\n",
    "cols_to_drop = []\n",
    "print data.disable_communication.value_counts() \n",
    "#Interesting... everyone allows communication. No need to keep this in our data set... am I right or am I right?\n",
    "\n",
    "cols_to_drop = cols_to_drop + ['disable_communication']"
   ]
  },
  {
   "cell_type": "code",
   "execution_count": 10,
   "metadata": {},
   "outputs": [
    {
     "name": "stdout",
     "output_type": "stream",
     "text": [
      "                          0\n",
      "Did not surpass goal  77905\n",
      "Failed                77907\n",
      "Surpassed goal        76046\n",
      "Succeeded             76044\n"
     ]
    },
    {
     "name": "stderr",
     "output_type": "stream",
     "text": [
      "C:\\Users\\572009\\AppData\\Local\\Continuum\\Anaconda3\\envs\\py27\\lib\\site-packages\\ipykernel_launcher.py:9: SettingWithCopyWarning: \n",
      "A value is trying to be set on a copy of a slice from a DataFrame.\n",
      "Try using .loc[row_indexer,col_indexer] = value instead\n",
      "\n",
      "See the caveats in the documentation: http://pandas.pydata.org/pandas-docs/stable/indexing.html#indexing-view-versus-copy\n",
      "  if __name__ == '__main__':\n"
     ]
    },
    {
     "data": {
      "image/png": "[encoded data removed]",
      "text/plain": [
       "<matplotlib.figure.Figure at 0x34275048>"
      ]
     },
     "metadata": {},
     "output_type": "display_data"
    }
   ],
   "source": [
    "#exploring the 'surpass_goal'... need to confirm that this is a form of \n",
    "#data leakage. I would expect that for every case where pledged > goal, that\n",
    "#the project is a success. So, let's do a little research\n",
    "\n",
    "#filter out cancelled projects\n",
    "temp = data[data.state != 'canceled']\n",
    "\n",
    "#apply a check to each row to see if pledged >0 goal\n",
    "temp['surpass_goal'] = data.apply(lambda row: row.goal <= row.pledged, axis=1)\n",
    "\n",
    "#create our plots showing value counts along with labels\n",
    "plot_cols = pd.DataFrame([temp.surpass_goal.value_counts()[0],  temp.state_num.value_counts()[0], \n",
    "                          temp.surpass_goal.value_counts()[1], temp.state_num.value_counts()[1]],\n",
    "                         ['Did not surpass goal', 'Failed', 'Surpassed goal', 'Succeeded'])\n",
    "\n",
    "print plot_cols\n",
    "plot_cols.plot(kind='bar', rot=45)\n",
    "\n",
    "#you can see that there is *almost* a 1 for 1 for each that surpassed goal, there is a succeeded...\n",
    "#could be interesting to see why it's 2 off... but let's save that for a later date\n",
    "\n",
    "cols_to_drop = cols_to_drop + ['pledged', 'usd_pledged']"
   ]
  },
  {
   "cell_type": "code",
   "execution_count": 11,
   "metadata": {},
   "outputs": [
    {
     "name": "stdout",
     "output_type": "stream",
     "text": [
      "photo                     False\n",
      "name                       True\n",
      "blurb                      True\n",
      "goal                      False\n",
      "pledged                   False\n",
      "state                     False\n",
      "slug                      False\n",
      "disable_communication     False\n",
      "country                   False\n",
      "currency                  False\n",
      "currency_symbol           False\n",
      "currency_trailing_code    False\n",
      "deadline                  False\n",
      "state_changed_at          False\n",
      "created_at                False\n",
      "launched_at               False\n",
      "staff_pick                False\n",
      "is_starrable              False\n",
      "backers_count             False\n",
      "static_usd_rate           False\n",
      "usd_pledged               False\n",
      "creator                   False\n",
      "location                   True\n",
      "category                  False\n",
      "profile                   False\n",
      "spotlight                 False\n",
      "urls                      False\n",
      "source_url                False\n",
      "friends                    True\n",
      "is_starred                 True\n",
      "is_backing                 True\n",
      "permissions                True\n",
      "state_num                 False\n",
      "state_image               False\n",
      "dtype: bool\n"
     ]
    }
   ],
   "source": [
    "#and let's remove a few columns that have missing values\n",
    "print pd.isnull(data).sum() > 0\n",
    "cols_to_drop = cols_to_drop + ['friends', 'is_starred', 'is_backing', 'permissions']"
   ]
  },
  {
   "cell_type": "code",
   "execution_count": 12,
   "metadata": {
    "collapsed": true
   },
   "outputs": [],
   "source": [
    "#I've identified a few more to drop as well\n",
    " #drop state (state_num will be our response variable) and state changed since this is data leakage \n",
    " #drop currency_symbol, since we have a currency column\n",
    "cols_to_drop = cols_to_drop + ['state', 'state_changed_at', 'currency_symbol']\n",
    "\n",
    "#all done! Let's go ahead and drop the columns\n",
    "data = data.drop(cols_to_drop, 1)"
   ]
  },
  {
   "cell_type": "code",
   "execution_count": 13,
   "metadata": {},
   "outputs": [
    {
     "data": {
      "text/plain": [
       "<matplotlib.axes._subplots.AxesSubplot at 0x22680f60>"
      ]
     },
     "execution_count": 13,
     "metadata": {},
     "output_type": "execute_result"
    },
    {
     "data": {
      "image/png": "[encoded data removed]",
      "text/plain": [
       "<matplotlib.figure.Figure at 0x333d7978>"
      ]
     },
     "metadata": {},
     "output_type": "display_data"
    }
   ],
   "source": [
    "#America!\n",
    "data.country.value_counts().plot(kind='bar')"
   ]
  },
  {
   "cell_type": "markdown",
   "metadata": {},
   "source": [
    "## Feature Engineering"
   ]
  },
  {
   "cell_type": "code",
   "execution_count": 14,
   "metadata": {
    "collapsed": true
   },
   "outputs": [],
   "source": [
    "#since all of the records have a conversion rate, we will \n",
    "#multiply the goal (in USD) by the conversion rate to convert to US dollars\n",
    "data['goal_usd'] = data['goal']*data['static_usd_rate']"
   ]
  },
  {
   "cell_type": "code",
   "execution_count": 15,
   "metadata": {
    "collapsed": true
   },
   "outputs": [],
   "source": [
    "#parse out the category...\n",
    "def parse_categories(flag, string):\n",
    "    beg_pos = string.find('categories')+11\n",
    "    end_pos = string.find('}}')\n",
    "    if flag == 'prim':\n",
    "        return string[beg_pos:end_pos].split('/')[0].replace('%20', ' ')\n",
    "    elif flag == 'sub':\n",
    "        return string[beg_pos:end_pos].split('/')[1].replace('%20', ' ').replace('\"','')\n",
    "\n",
    "#run string parsing function to extract the primary category\n",
    "data['primary_category'] = data.apply(lambda row: parse_categories('prim', row['category']), axis=1)\n",
    "\n",
    "#run the string parsing function to extract the sub category\n",
    "data['sub_category'] = data.apply(lambda row: parse_categories('sub', row['category']), axis=1)"
   ]
  },
  {
   "cell_type": "code",
   "execution_count": 16,
   "metadata": {
    "collapsed": true
   },
   "outputs": [],
   "source": [
    "#parse out the locations...\n",
    "def parse_location(flag, string):\n",
    "    if string != string:\n",
    "        return 'N/A'\n",
    "    beg_pos = string.find('displayable_name')+19\n",
    "    end_pos = string.find('short_name')-3\n",
    "\n",
    "    if string[beg_pos:end_pos].find(',') == -1:\n",
    "        return string[beg_pos:end_pos]\n",
    "    elif flag == \"state\":\n",
    "        return string[beg_pos:end_pos].split(',')[1]\n",
    "    elif flag == 'city':\n",
    "        return string[beg_pos:end_pos].split(',')[0]\n",
    "\n",
    "#run string parsing function to extract the state\n",
    "data['state'] = data.apply(lambda row: parse_location('state', row['location']), axis=1)\n",
    "\n",
    "#run string parsing function to extract the city\n",
    "data['city'] = data.apply(lambda row: parse_location('city', row['location']), axis=1)"
   ]
  },
  {
   "cell_type": "code",
   "execution_count": 17,
   "metadata": {
    "collapsed": true
   },
   "outputs": [],
   "source": [
    "#make a feature for the number of keywords\n",
    "data['blurb_word_count'] = np.where(data.blurb.str.count('-').isnull(), 0, data.blurb.str.count('-')+1)\n",
    "\n",
    "#make a feature for the number of words in the name\n",
    "data['name_word_count'] = np.where(data.name.str.count(' ').isnull(), 0, data.name.str.count('-')+1)"
   ]
  },
  {
   "cell_type": "code",
   "execution_count": 18,
   "metadata": {
    "collapsed": true
   },
   "outputs": [],
   "source": [
    "#use the dictionary to define the season...\n",
    "season_conversion = ({1:'winter', 2:'winter', 3:'spring', 4:'spring', 5:'spring', 6:'summer', 7:'summer', 8:'summer',\n",
    "                      9:'fall', 10:'fall', 11:'fall', 12:'winter'})\n",
    "\n",
    "#format the columns from UNIX to \"yyyy-mm-dd hour:minute:second\"\n",
    "date_columns = ['deadline', 'created_at', 'launched_at']\n",
    "for col in date_columns:\n",
    "    data[col] = pd.to_datetime(data[col],unit='s')\n",
    "    #set hour\n",
    "    data[col+'_time'] = data[col].dt.hour\n",
    "    #set day of the week\n",
    "    data[col+'_day_of_week'] = data[col].dt.weekday\n",
    "    #set month\n",
    "    data[col+'_month'] = data[col].dt.month\n",
    "    #set seasons using lookup and replace methodtrain.deadline_season.value_counts().plot(kind='bar')\n",
    "    data[col+'_season'] = data[col+'_month']\n",
    "    data[col+'_season'].replace(season_conversion, inplace=True)"
   ]
  },
  {
   "cell_type": "code",
   "execution_count": 19,
   "metadata": {
    "collapsed": true
   },
   "outputs": [],
   "source": [
    "#add features to get difference between project start and end time and project launch and end time\n",
    "data['total_project_time'] = (data.deadline - data.created_at ).dt.days\n",
    "data['total_active_time'] = (data.deadline - data.launched_at ).dt.days"
   ]
  },
  {
   "cell_type": "code",
   "execution_count": 20,
   "metadata": {
    "collapsed": true
   },
   "outputs": [],
   "source": [
    "#add features to calculate the dollars per day needed to achieve goal\n",
    "data['goal_per_day_project'] = data.goal_usd / data.total_project_time\n",
    "data['goal_per_day_active'] = data.goal_usd / data.total_active_time"
   ]
  },
  {
   "cell_type": "code",
   "execution_count": 21,
   "metadata": {
    "collapsed": true
   },
   "outputs": [],
   "source": [
    "#combine all the text into a single column\n",
    "data['combined_title'] = data['name'] + ' ' + data['blurb']"
   ]
  },
  {
   "cell_type": "code",
   "execution_count": 72,
   "metadata": {
    "collapsed": true
   },
   "outputs": [],
   "source": [
    "#define our feature types\n",
    "dummy_features =['country','currency', 'staff_pick', 'deadline_day_of_week','deadline_month', \n",
    "                 'deadline_season', 'deadline_time', 'created_at_month', 'created_at_season', 'launched_at_time', \n",
    "                 'launched_at_day_of_week', 'launched_at_month', 'launched_at_season', 'primary_category', 'sub_category', 'state']\n",
    "\n",
    "nlp_features = ['combined_title']\n",
    "\n",
    "continous_features = ['goal_usd', 'state_num', 'total_project_time', 'total_active_time', 'goal_per_day_project', \n",
    "                             'goal_per_day_active','name_word_count', 'blurb_word_count']\n",
    "\n",
    "#mr_data means model ready data\n",
    "mr_data = data.filter(items=dummy_features)\n",
    "\n",
    "#get dummies\n",
    "for feature in dummy_features:\n",
    "    mr_data = mr_data.join(pd.get_dummies(mr_data[feature], prefix=feature, drop_first=True))\n",
    "    mr_data = mr_data.drop(feature, axis=1)\n",
    "\n",
    "#other features get joined into the data\n",
    "for feature in continous_features:\n",
    "    mr_data = mr_data.join(data[feature])\n",
    "\n",
    "for feature in nlp_features:\n",
    "    mr_data = mr_data.join(data[feature])\n",
    "\n",
    "#drop null titles\n",
    "mr_data = mr_data[mr_data.combined_title.isnull() == False]"
   ]
  },
  {
   "cell_type": "code",
   "execution_count": 73,
   "metadata": {
    "collapsed": true
   },
   "outputs": [],
   "source": [
    "#define X and y\n",
    "y = mr_data['state_num']\n",
    "X = mr_data.drop('state_num', axis=1)\n",
    "\n",
    "#Start with test train split\n",
    "X_train, X_test, y_train, y_test = train_test_split(X, y, random_state=34)"
   ]
  },
  {
   "cell_type": "code",
   "execution_count": 25,
   "metadata": {
    "collapsed": true
   },
   "outputs": [],
   "source": [
    "#Create bag of words, removing stop word and making lowercase\n",
    "vect = CountVectorizer(lowercase=True, stop_words='english', ngram_range=(1, 2), min_df=2, max_features=1000) # note, using Lemmization did not help!!\n",
    "\n",
    "#transform the outputs\n",
    "X_train_dtm = vect.fit_transform(X_train.combined_title)\n",
    "X_test_dtm = vect.transform(X_test.combined_title)"
   ]
  },
  {
   "cell_type": "code",
   "execution_count": 26,
   "metadata": {},
   "outputs": [
    {
     "name": "stdout",
     "output_type": "stream",
     "text": [
      "[u'000', u'10', u'100', u'11', u'12', u'15', u'1st', u'20', u'2011', u'2012']\n"
     ]
    }
   ],
   "source": [
    "#get headers to use later\n",
    "X_dtm_header = vect.get_feature_names()\n",
    "print X_dtm_header[:10]"
   ]
  },
  {
   "cell_type": "code",
   "execution_count": 27,
   "metadata": {},
   "outputs": [
    {
     "data": {
      "text/plain": [
       "Index([u'country_AU', u'country_BE', u'country_CA', u'country_CH',\n",
       "       u'country_DE', u'country_DK', u'country_ES', u'country_FR',\n",
       "       u'country_GB', u'country_HK'],\n",
       "      dtype='object')"
      ]
     },
     "execution_count": 27,
     "metadata": {},
     "output_type": "execute_result"
    }
   ],
   "source": [
    "# Cast other feature columns to float and convert to a sparse matrix.\n",
    "extra = sp.sparse.csr_matrix(X_train.drop('combined_title', axis=1).astype(float))\n",
    "X_train_header = X_train.drop('combined_title', axis=1).columns\n",
    "X_train_header[:10]"
   ]
  },
  {
   "cell_type": "code",
   "execution_count": 28,
   "metadata": {
    "collapsed": true
   },
   "outputs": [],
   "source": [
    "# get the headers so that we can evaluate feature importance later\n",
    "headers = X_dtm_header + X_train_header.tolist()"
   ]
  },
  {
   "cell_type": "code",
   "execution_count": 29,
   "metadata": {
    "collapsed": true
   },
   "outputs": [],
   "source": [
    "# Combine sparse matrices.\n",
    "X_train_dtm_extra = sp.sparse.hstack((X_train_dtm, extra))"
   ]
  },
  {
   "cell_type": "code",
   "execution_count": 30,
   "metadata": {},
   "outputs": [
    {
     "data": {
      "text/plain": [
       "(41237, 1820)"
      ]
     },
     "execution_count": 30,
     "metadata": {},
     "output_type": "execute_result"
    }
   ],
   "source": [
    "# Repeat for testing set.\n",
    "extra = sp.sparse.csr_matrix(X_test.drop('combined_title', axis=1).astype(float))\n",
    "X_test_dtm_extra = sp.sparse.hstack((X_test_dtm, extra))\n",
    "X_test_dtm_extra.shape"
   ]
  },
  {
   "cell_type": "code",
   "execution_count": 31,
   "metadata": {},
   "outputs": [
    {
     "name": "stdout",
     "output_type": "stream",
     "text": [
      "Total time: 0:07:39.588000\n",
      "Accuracy: 0.798215195092 , Baseline: 0.57273807503\n"
     ]
    }
   ],
   "source": [
    "# Run the random forest model\n",
    "start_time = datetime.now()\n",
    "rfclass = RandomForestClassifier(n_estimators=100)\n",
    "rfclass.fit(X_train_dtm_extra, y_train)\n",
    "end_time = datetime.now()\n",
    "\n",
    "print 'Total time: '+ str(end_time-start_time)\n",
    "y_pred_class = rfclass.predict(X_test_dtm_extra) \n",
    "print 'Accuracy: '+ str(metrics.accuracy_score(y_test, y_pred_class)), ', Baseline: ' +str(1-y_pred_class.mean())"
   ]
  },
  {
   "cell_type": "code",
   "execution_count": 32,
   "metadata": {},
   "outputs": [
    {
     "name": "stdout",
     "output_type": "stream",
     "text": [
      "Confusion Matrix: \n",
      "[[18752  3455]\n",
      " [ 4866 14164]]\n"
     ]
    },
    {
     "data": {
      "image/png": "[encoded data removed]",
      "text/plain": [
       "<matplotlib.figure.Figure at 0x213a6128>"
      ]
     },
     "metadata": {},
     "output_type": "display_data"
    }
   ],
   "source": [
    "#plot the confusion matrix\n",
    "plt.matshow(metrics.confusion_matrix(y_test, y_pred_class), cmap=plt.cm.binary, interpolation='nearest')\n",
    "plt.title('confusion matrix')\n",
    "plt.colorbar()\n",
    "plt.ylabel('expected label')\n",
    "plt.xlabel('predicted label')\n",
    "\n",
    "print 'Confusion Matrix: '\n",
    "print metrics.confusion_matrix(y_test, y_pred_class)"
   ]
  },
  {
   "cell_type": "markdown",
   "metadata": {},
   "source": [
    "# So the model predicts at 80% accuracy, which is considerably better than baseline accuracy of 57%. But let's look at the feature importance before we get ahead of ourselves"
   ]
  },
  {
   "cell_type": "code",
   "execution_count": 33,
   "metadata": {
    "collapsed": true
   },
   "outputs": [],
   "source": [
    "#feature importance evaluation, add a column for the headers\n",
    "importances = pd.DataFrame({'importance':rfclass.feature_importances_})\n",
    "importances[feature] = pd.Series(headers)"
   ]
  },
  {
   "cell_type": "code",
   "execution_count": 34,
   "metadata": {},
   "outputs": [
    {
     "data": {
      "text/html": [
       "<div>\n",
       "<style>\n",
       "    .dataframe thead tr:only-child th {\n",
       "        text-align: right;\n",
       "    }\n",
       "\n",
       "    .dataframe thead th {\n",
       "        text-align: left;\n",
       "    }\n",
       "\n",
       "    .dataframe tbody tr th {\n",
       "        vertical-align: top;\n",
       "    }\n",
       "</style>\n",
       "<table border=\"1\" class=\"dataframe\">\n",
       "  <thead>\n",
       "    <tr style=\"text-align: right;\">\n",
       "      <th></th>\n",
       "      <th>importance</th>\n",
       "      <th>combined_title</th>\n",
       "    </tr>\n",
       "  </thead>\n",
       "  <tbody>\n",
       "    <tr>\n",
       "      <th>1032</th>\n",
       "      <td>0.05</td>\n",
       "      <td>staff_pick_True</td>\n",
       "    </tr>\n",
       "    <tr>\n",
       "      <th>1816</th>\n",
       "      <td>0.04</td>\n",
       "      <td>goal_per_day_project</td>\n",
       "    </tr>\n",
       "    <tr>\n",
       "      <th>1813</th>\n",
       "      <td>0.03</td>\n",
       "      <td>goal_usd</td>\n",
       "    </tr>\n",
       "    <tr>\n",
       "      <th>1817</th>\n",
       "      <td>0.03</td>\n",
       "      <td>goal_per_day_active</td>\n",
       "    </tr>\n",
       "    <tr>\n",
       "      <th>127</th>\n",
       "      <td>0.02</td>\n",
       "      <td>canceled</td>\n",
       "    </tr>\n",
       "    <tr>\n",
       "      <th>1815</th>\n",
       "      <td>0.02</td>\n",
       "      <td>total_active_time</td>\n",
       "    </tr>\n",
       "    <tr>\n",
       "      <th>1814</th>\n",
       "      <td>0.02</td>\n",
       "      <td>total_project_time</td>\n",
       "    </tr>\n",
       "    <tr>\n",
       "      <th>1180</th>\n",
       "      <td>0.01</td>\n",
       "      <td>sub_category_documentary</td>\n",
       "    </tr>\n",
       "    <tr>\n",
       "      <th>1247</th>\n",
       "      <td>0.01</td>\n",
       "      <td>sub_category_product design</td>\n",
       "    </tr>\n",
       "    <tr>\n",
       "      <th>1269</th>\n",
       "      <td>0.01</td>\n",
       "      <td>sub_category_tabletop games</td>\n",
       "    </tr>\n",
       "    <tr>\n",
       "      <th>1262</th>\n",
       "      <td>0.01</td>\n",
       "      <td>sub_category_shorts</td>\n",
       "    </tr>\n",
       "    <tr>\n",
       "      <th>1258</th>\n",
       "      <td>0.01</td>\n",
       "      <td>sub_category_rock</td>\n",
       "    </tr>\n",
       "    <tr>\n",
       "      <th>1209</th>\n",
       "      <td>0.01</td>\n",
       "      <td>sub_category_indie rock</td>\n",
       "    </tr>\n",
       "    <tr>\n",
       "      <th>1819</th>\n",
       "      <td>0.01</td>\n",
       "      <td>blurb_word_count</td>\n",
       "    </tr>\n",
       "    <tr>\n",
       "      <th>1139</th>\n",
       "      <td>0.01</td>\n",
       "      <td>primary_category_food</td>\n",
       "    </tr>\n",
       "    <tr>\n",
       "      <th>1174</th>\n",
       "      <td>0.01</td>\n",
       "      <td>sub_category_country &amp; folk</td>\n",
       "    </tr>\n",
       "    <tr>\n",
       "      <th>1145</th>\n",
       "      <td>0.01</td>\n",
       "      <td>primary_category_technology</td>\n",
       "    </tr>\n",
       "    <tr>\n",
       "      <th>1142</th>\n",
       "      <td>0.01</td>\n",
       "      <td>primary_category_music</td>\n",
       "    </tr>\n",
       "    <tr>\n",
       "      <th>1205</th>\n",
       "      <td>0.00</td>\n",
       "      <td>sub_category_hip-hop</td>\n",
       "    </tr>\n",
       "    <tr>\n",
       "      <th>1279</th>\n",
       "      <td>0.00</td>\n",
       "      <td>sub_category_video games</td>\n",
       "    </tr>\n",
       "    <tr>\n",
       "      <th>1818</th>\n",
       "      <td>0.00</td>\n",
       "      <td>name_word_count</td>\n",
       "    </tr>\n",
       "    <tr>\n",
       "      <th>1282</th>\n",
       "      <td>0.00</td>\n",
       "      <td>sub_category_web</td>\n",
       "    </tr>\n",
       "    <tr>\n",
       "      <th>1138</th>\n",
       "      <td>0.00</td>\n",
       "      <td>primary_category_film &amp; video</td>\n",
       "    </tr>\n",
       "    <tr>\n",
       "      <th>585</th>\n",
       "      <td>0.00</td>\n",
       "      <td>new</td>\n",
       "    </tr>\n",
       "    <tr>\n",
       "      <th>35</th>\n",
       "      <td>0.00</td>\n",
       "      <td>album</td>\n",
       "    </tr>\n",
       "  </tbody>\n",
       "</table>\n",
       "</div>"
      ],
      "text/plain": [
       "               importance                 combined_title\n",
       "1032                 0.05                staff_pick_True\n",
       "1816                 0.04           goal_per_day_project\n",
       "1813                 0.03                       goal_usd\n",
       "1817                 0.03            goal_per_day_active\n",
       "127                  0.02                       canceled\n",
       "1815                 0.02              total_active_time\n",
       "1814                 0.02             total_project_time\n",
       "1180                 0.01       sub_category_documentary\n",
       "1247                 0.01    sub_category_product design\n",
       "1269                 0.01    sub_category_tabletop games\n",
       "1262                 0.01            sub_category_shorts\n",
       "1258                 0.01              sub_category_rock\n",
       "1209                 0.01        sub_category_indie rock\n",
       "1819                 0.01               blurb_word_count\n",
       "1139                 0.01          primary_category_food\n",
       "1174                 0.01    sub_category_country & folk\n",
       "1145                 0.01    primary_category_technology\n",
       "1142                 0.01         primary_category_music\n",
       "1205                 0.00           sub_category_hip-hop\n",
       "1279                 0.00       sub_category_video games\n",
       "1818                 0.00                name_word_count\n",
       "1282                 0.00               sub_category_web\n",
       "1138                 0.00  primary_category_film & video\n",
       "585                  0.00                            new\n",
       "35                   0.00                          album"
      ]
     },
     "execution_count": 34,
     "metadata": {},
     "output_type": "execute_result"
    }
   ],
   "source": [
    "#sort by importance\n",
    "importances.sort_values(by='importance', ascending=False).head(25)"
   ]
  },
  {
   "cell_type": "markdown",
   "metadata": {},
   "source": [
    "# Notice that one of most important words was 'canceled'. Let's add that as a stop-word and keep it from intefering with the model"
   ]
  },
  {
   "cell_type": "code",
   "execution_count": 53,
   "metadata": {},
   "outputs": [
    {
     "name": "stdout",
     "output_type": "stream",
     "text": [
      "features: 50, scores: [ 0.72776599  0.61676266  0.6987572   0.69830252  0.67027404], mean accuracy: 0.682372479831\n",
      "features: 100, scores: [ 0.72785693  0.61551985  0.70151561  0.69411943  0.6736389 ], mean accuracy: 0.682530144152\n",
      "features: 150, scores: [ 0.73197939  0.61376175  0.69839345  0.69693847  0.67576088], mean accuracy: 0.683366787037\n"
     ]
    }
   ],
   "source": [
    "# add canceled and cancelled to the stop words and getnerate the count vectorizer with same parameters as before\n",
    "stop_words = text.ENGLISH_STOP_WORDS.union(['canceled', 'cancelled'])\n",
    "\n",
    "for k in range (50, 200, 50):\n",
    "    vect = CountVectorizer(lowercase=True, stop_words=stop_words, ngram_range=(1, 2), min_df=2, max_features=1000)\n",
    "    X_dtm = vect.fit_transform(X.combined_title)\n",
    "\n",
    "    # get the feature names for later\n",
    "    X_dtm_header = vect.get_feature_names()\n",
    "\n",
    "    # cast other feature columns to float and convert to a sparse matrix.\n",
    "    extra = sp.sparse.csr_matrix(X.drop('combined_title', axis=1).astype(float))\n",
    "    header = X.drop('combined_title', axis=1).columns\n",
    "\n",
    "    # combine sparse matrices.\n",
    "    X_dtm_extra = sp.sparse.hstack((X_dtm, extra))\n",
    "\n",
    "    # run the model\n",
    "    rfclass = RandomForestClassifier(n_estimators=k)\n",
    "\n",
    "    # this time with cross validation\n",
    "    scores = cross_val_score(rfclass, X_dtm_extra, y, cv=5)\n",
    "    print 'features: '+ str(k)+ ', scores: '+ str(scores) + ', mean accuracy: ' + str(scores.mean())"
   ]
  },
  {
   "cell_type": "markdown",
   "metadata": {},
   "source": [
    "# This time let's try with a TF-IDF"
   ]
  },
  {
   "cell_type": "code",
   "execution_count": 65,
   "metadata": {},
   "outputs": [
    {
     "name": "stdout",
     "output_type": "stream",
     "text": [
      "estimators: 150, scores: [ 0.680275    0.66653733], mean accuracy: 0.673406164367\n"
     ]
    }
   ],
   "source": [
    "#Create bag of words, removing stop word and making lowercase\n",
    "vect = TfidfVectorizer(lowercase=True, stop_words='english', ngram_range=(1, 2), min_df=2, max_features=1000) \n",
    "\n",
    "X_train_dtm = vect.fit_transform(X_train.combined_title)\n",
    "X_test_dtm = vect.transform(X_test.combined_title)\n",
    "\n",
    "# get the feature names for later\n",
    "X_dtm_header = vect.get_feature_names()\n",
    "\n",
    "# cast other feature columns to float and convert to a sparse matrix.\n",
    "extra = sp.sparse.csr_matrix(X.drop('combined_title', axis=1).astype(float))\n",
    "header = X.drop('combined_title', axis=1).columns\n",
    "\n",
    "# combine sparse matrices.\n",
    "X_dtm_extra = sp.sparse.hstack((X_dtm, extra))\n",
    "\n",
    "# run the model\n",
    "rfclass = RandomForestClassifier(n_estimators=150)\n",
    "\n",
    "# this time with cross validation\n",
    "scores = cross_val_score(rfclass, X_dtm_extra, y, cv=5)\n",
    "print 'estimators: '+ str(150)+ ', scores: '+ str(scores) + ', mean accuracy: ' + str(scores.mean())"
   ]
  },
  {
   "cell_type": "markdown",
   "metadata": {},
   "source": [
    "# Okay, now a TF-IDF with Naive Bayes"
   ]
  },
  {
   "cell_type": "code",
   "execution_count": 74,
   "metadata": {},
   "outputs": [
    {
     "name": "stdout",
     "output_type": "stream",
     "text": [
      "scores: [ 0.57590179  0.57408306  0.58505608  0.60845711  0.56041591], mean accuracy: 0.580782787704\n"
     ]
    }
   ],
   "source": [
    "# run the model\n",
    "nb = MultinomialNB()\n",
    "\n",
    "# use cross validation\n",
    "scores = cross_val_score(nb, X_dtm_extra, y, cv=5)\n",
    "print 'scores: '+ str(scores) + ', mean accuracy: ' + str(scores.mean())"
   ]
  },
  {
   "cell_type": "markdown",
   "metadata": {},
   "source": [
    "# How about a random forest with NO Natural Language Processing"
   ]
  },
  {
   "cell_type": "code",
   "execution_count": null,
   "metadata": {
    "collapsed": true
   },
   "outputs": [],
   "source": [
    "dummy_features =['staff_pick', 'deadline_day_of_week','deadline_month', \n",
    "                 'deadline_season', 'deadline_time', 'created_at_month', 'created_at_season', 'launched_at_time', \n",
    "                 'launched_at_day_of_week', 'launched_at_month', 'launched_at_season', 'primary_category', 'sub_category']\n",
    "\n",
    "continous_features = ['goal_usd', 'state_num', 'total_project_time', 'total_active_time', 'goal_per_day_project', \n",
    "                             'goal_per_day_active','name_word_count', 'blurb_word_count']\n",
    "\n",
    "\n",
    "mr_data = data.filter(items=dummy_features)\n",
    "\n",
    "for feature in dummy_features:\n",
    "    mr_data = mr_data.join(pd.get_dummies(mr_data[feature], prefix=feature, drop_first=True))\n",
    "    mr_data = mr_data.drop(feature, axis=1)\n",
    "    \n",
    "for feature in continous_features:\n",
    "    mr_data = mr_data.join(data[feature])\n",
    "\n",
    "y = mr_data['state_num']\n",
    "X = mr_data.drop('state_num', axis=1)\n",
    "\n",
    "mr_data = mr_data.dropna()\n",
    "mr_data.shape\n",
    "\n",
    "# run the model\n",
    "rfclass = RandomForestClassifier(n_estimators=150)\n",
    "\n",
    "# use cross validation\n",
    "scores = cross_val_score(rfclass, X, y, cv=5)\n",
    "print 'features: '+ str(150)+ ', scores: '+ str(scores) + ', mean accuracy: ' + str(scores.mean())"
   ]
  },
  {
   "cell_type": "markdown",
   "metadata": {},
   "source": [
    "# We had some excitement on our first model attempt, until it was discovered that there was data leakage! Ultimately, this model is a mediocore predictor at best. The model I would recommend would be a random forest without the NLP component. This provided an accuracy of 68% which is 13% better than the baseline accuracy of 55%"
   ]
  },
  {
   "cell_type": "code",
   "execution_count": null,
   "metadata": {
    "collapsed": true
   },
   "outputs": [],
   "source": []
  }
 ],
 "metadata": {
  "kernelspec": {
   "display_name": "Python 2",
   "language": "python",
   "name": "python2"
  },
  "language_info": {
   "codemirror_mode": {
    "name": "ipython",
    "version": 2
   },
   "file_extension": ".py",
   "mimetype": "text/x-python",
   "name": "python",
   "nbconvert_exporter": "python",
   "pygments_lexer": "ipython2",
   "version": "2.7.13"
  }
 },
 "nbformat": 4,
 "nbformat_minor": 2
}
