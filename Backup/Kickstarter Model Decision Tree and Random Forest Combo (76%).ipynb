{
 "cells": [
  {
   "cell_type": "markdown",
   "metadata": {},
   "source": [
    "# Kickstarter Launches... Let's predict the outcome!\n",
    "### https://www.kaggle.com/codename007/funding-successful-projects\n",
    "### https://webrobots.io/kickstarter-datasets/\n"
   ]
  },
  {
   "cell_type": "code",
   "execution_count": 155,
   "metadata": {
    "collapsed": true
   },
   "outputs": [],
   "source": [
    "import pandas as pd\n",
    "pd.options.display.float_format = '{:20,.2f}'.format\n",
    "import numpy as np\n",
    "from numpy.random import seed, randint\n",
    "import matplotlib.pyplot as plt\n",
    "import seaborn as sns\n",
    "import datetime    \n",
    "import dateutil.parser\n",
    "import zipfile\n",
    "import math\n",
    "from datetime import datetime\n",
    "#modeling \n",
    "import scipy as sp\n",
    "from sklearn.model_selection import train_test_split\n",
    "from sklearn.feature_extraction.text import CountVectorizer, TfidfVectorizer\n",
    "from sklearn.naive_bayes import MultinomialNB         # Naive Bayes\n",
    "from sklearn.linear_model import LogisticRegression\n",
    "from sklearn.tree import DecisionTreeClassifier\n",
    "from sklearn.ensemble import RandomForestClassifier\n",
    "from sklearn import metrics\n",
    "\n",
    "from textblob import TextBlob, Word\n",
    "from nltk.stem.snowball import SnowballStemmer\n",
    "\n",
    "#natural language processing\n",
    "from textblob import TextBlob, Word\n",
    "\n",
    "plt.style.use('fivethirtyeight')\n",
    "%matplotlib inline"
   ]
  },
  {
   "cell_type": "markdown",
   "metadata": {},
   "source": [
    "## Get Data "
   ]
  },
  {
   "cell_type": "code",
   "execution_count": 2,
   "metadata": {},
   "outputs": [
    {
     "name": "stdout",
     "output_type": "stream",
     "text": [
      "(169832, 32)\n"
     ]
    }
   ],
   "source": [
    "# The following opens a zip file, returns all the contents in the zip file (csvs), \n",
    "# and concats the files into a single dataframe\n",
    "\n",
    "flag=0 # flag is used to to track the first instance to build an intial data frame called \"data\"\n",
    "with zipfile.ZipFile('./Data/Kickstarter_2017-08-15T22_20_51_958Z.zip') as z:\n",
    "    files = z.namelist()\n",
    "    # loop through each file\n",
    "    for f in files:\n",
    "    #if first instance, build initial data frame called data\n",
    "        with z.open(f) as f:\n",
    "            if flag == 0:\n",
    "                data = pd.DataFrame.from_csv(f)\n",
    "                flag += 1\n",
    "            else:\n",
    "    #if data already exisits, we concat future csvs\n",
    "                df = pd.DataFrame.from_csv(f)\n",
    "                data = pd.concat([data, df])\n",
    "\n",
    "            \n",
    "# to validate that we have the data!\n",
    "print data.shape\n",
    "data = data.set_index([range(0, len(data))])"
   ]
  },
  {
   "cell_type": "code",
   "execution_count": 3,
   "metadata": {},
   "outputs": [
    {
     "data": {
      "text/plain": [
       "<matplotlib.axes._subplots.AxesSubplot at 0xd36a128>"
      ]
     },
     "execution_count": 3,
     "metadata": {},
     "output_type": "execute_result"
    },
    {
     "data": {
      "image/png": "[encoded data removed]",
      "text/plain": [
       "<matplotlib.figure.Figure at 0x49989e8>"
      ]
     },
     "metadata": {},
     "output_type": "display_data"
    }
   ],
   "source": [
    "#exploring the target variable 'state\n",
    "#take note that projects not only fail or succeed, they can also be cancelled, live, or suspended...\n",
    "data.state.value_counts().plot(kind='bar', rot='0')"
   ]
  },
  {
   "cell_type": "code",
   "execution_count": 4,
   "metadata": {},
   "outputs": [
    {
     "data": {
      "text/plain": [
       "<matplotlib.axes._subplots.AxesSubplot at 0x40ac26d8>"
      ]
     },
     "execution_count": 4,
     "metadata": {},
     "output_type": "execute_result"
    },
    {
     "data": {
      "image/png": "[encoded data removed]",
      "text/plain": [
       "<matplotlib.figure.Figure at 0x3ecf1780>"
      ]
     },
     "metadata": {},
     "output_type": "display_data"
    }
   ],
   "source": [
    "#let's encode the state variable\n",
    "#we don't need live or suspended projects since they are ongoing\n",
    "data= data[(data.state != 'live') & (data.state != 'suspended')]\n",
    "\n",
    "# we will count a canceled project as failed\n",
    "# use map to code the outcome variable\n",
    "data['state_num'] = data.state.map({'failed':0, 'successful': 1, 'canceled': 0})\n",
    "data.state_num.value_counts().plot(kind='bar')"
   ]
  },
  {
   "cell_type": "markdown",
   "metadata": {},
   "source": [
    "## Let's do some EDA"
   ]
  },
  {
   "cell_type": "code",
   "execution_count": 5,
   "metadata": {},
   "outputs": [
    {
     "name": "stdout",
     "output_type": "stream",
     "text": [
      "count             165,486.00\n",
      "mean               49,910.05\n",
      "std             1,222,089.17\n",
      "min                     0.01\n",
      "25%                 2,000.00\n",
      "50%                 5,000.00\n",
      "75%                15,000.00\n",
      "max           100,000,000.00\n",
      "Name: goal, dtype: float64\n"
     ]
    },
    {
     "data": {
      "text/plain": [
       "<matplotlib.axes._subplots.AxesSubplot at 0x2bdd4048>"
      ]
     },
     "execution_count": 5,
     "metadata": {},
     "output_type": "execute_result"
    },
    {
     "data": {
      "image/png": "[encoded data removed]",
      "text/plain": [
       "<matplotlib.figure.Figure at 0x37ab17b8>"
      ]
     },
     "metadata": {},
     "output_type": "display_data"
    }
   ],
   "source": [
    "#the goal has some serious outliers\n",
    "print data.goal.describe()\n",
    "\n",
    "#I am tempted to just keep the records where the goal is 1,000,000 or less\n",
    "data = data[data.goal < 1000001]\n",
    "data.goal.plot(kind='box')"
   ]
  },
  {
   "cell_type": "code",
   "execution_count": 6,
   "metadata": {},
   "outputs": [
    {
     "name": "stdout",
     "output_type": "stream",
     "text": [
      "False    164957\n",
      "Name: disable_communication, dtype: int64\n"
     ]
    }
   ],
   "source": [
    "# let's identify what columns should be dropped\n",
    "cols_to_drop = []\n",
    "print data.disable_communication.value_counts() \n",
    "#Interesting... everyone allows communication. No need to keep this in our data set... am I right or am I right?\n",
    "\n",
    "cols_to_drop = cols_to_drop + ['disable_communication']\n"
   ]
  },
  {
   "cell_type": "code",
   "execution_count": 7,
   "metadata": {},
   "outputs": [
    {
     "name": "stdout",
     "output_type": "stream",
     "text": [
      "                          0\n",
      "Did not surpass goal  77905\n",
      "Failed                77907\n",
      "Surpassed goal        76046\n",
      "Succeeded             76044\n"
     ]
    },
    {
     "name": "stderr",
     "output_type": "stream",
     "text": [
      "C:\\Users\\572009\\AppData\\Local\\Continuum\\Anaconda3\\envs\\py27\\lib\\site-packages\\ipykernel_launcher.py:9: SettingWithCopyWarning: \n",
      "A value is trying to be set on a copy of a slice from a DataFrame.\n",
      "Try using .loc[row_indexer,col_indexer] = value instead\n",
      "\n",
      "See the caveats in the documentation: http://pandas.pydata.org/pandas-docs/stable/indexing.html#indexing-view-versus-copy\n",
      "  if __name__ == '__main__':\n"
     ]
    },
    {
     "data": {
      "image/png": "[encoded data removed]",
      "text/plain": [
       "<matplotlib.figure.Figure at 0x40af7400>"
      ]
     },
     "metadata": {},
     "output_type": "display_data"
    }
   ],
   "source": [
    "#exploring the 'surpass_goal'... need to confirm that this is a form of \n",
    "#data leakage. I would expect that for every case where pledged > goal, that\n",
    "#the project is a success. So, let's do a little research\n",
    "\n",
    "#filter out cancelled projects\n",
    "temp = data[data.state != 'canceled']\n",
    "\n",
    "#apply a check to each row to see if pledged >0 goal\n",
    "temp['surpass_goal'] = data.apply(lambda row: row.goal <= row.pledged, axis=1)\n",
    "\n",
    "#create our plots showing value counts along with labels\n",
    "plot_cols = pd.DataFrame([temp.surpass_goal.value_counts()[0],  temp.state_num.value_counts()[0], \n",
    "                          temp.surpass_goal.value_counts()[1], temp.state_num.value_counts()[1]],\n",
    "                         ['Did not surpass goal', 'Failed', 'Surpassed goal', 'Succeeded'])\n",
    "\n",
    "print plot_cols\n",
    "plot_cols.plot(kind='bar', rot=45)\n",
    "\n",
    "#you can see that there is *almost* a 1 for 1 for each that surpassed goal, there is a succeeded...\n",
    "#could be interesting to see why it's 2 off...\n",
    "\n",
    "cols_to_drop = cols_to_drop + ['pledged', 'usd_pledged']"
   ]
  },
  {
   "cell_type": "code",
   "execution_count": 8,
   "metadata": {},
   "outputs": [
    {
     "name": "stdout",
     "output_type": "stream",
     "text": [
      "photo                     False\n",
      "name                       True\n",
      "blurb                      True\n",
      "goal                      False\n",
      "pledged                   False\n",
      "state                     False\n",
      "slug                      False\n",
      "disable_communication     False\n",
      "country                   False\n",
      "currency                  False\n",
      "currency_symbol           False\n",
      "currency_trailing_code    False\n",
      "deadline                  False\n",
      "state_changed_at          False\n",
      "created_at                False\n",
      "launched_at               False\n",
      "staff_pick                False\n",
      "is_starrable              False\n",
      "backers_count             False\n",
      "static_usd_rate           False\n",
      "usd_pledged               False\n",
      "creator                   False\n",
      "location                   True\n",
      "category                  False\n",
      "profile                   False\n",
      "spotlight                 False\n",
      "urls                      False\n",
      "source_url                False\n",
      "friends                    True\n",
      "is_starred                 True\n",
      "is_backing                 True\n",
      "permissions                True\n",
      "state_num                 False\n",
      "dtype: bool\n"
     ]
    }
   ],
   "source": [
    "#and let's remove a few columns that have missing values\n",
    "print pd.isnull(data).sum() > 0\n",
    "cols_to_drop = cols_to_drop + ['friends', 'is_starred', 'is_backing', 'permissions']"
   ]
  },
  {
   "cell_type": "code",
   "execution_count": 9,
   "metadata": {
    "collapsed": true
   },
   "outputs": [],
   "source": [
    "#I've identified a few more to drop as well\n",
    " #drop state (state_num will be our response variable) and state changed since this is data leakage \n",
    " #drop currency_symbol, since we have a currency column\n",
    "cols_to_drop = cols_to_drop + ['state', 'state_changed_at', 'currency_symbol']\n",
    "\n",
    "#all done! Let's go ahead and drop the columns\n",
    "data = data.drop(cols_to_drop, 1)"
   ]
  },
  {
   "cell_type": "code",
   "execution_count": 10,
   "metadata": {},
   "outputs": [
    {
     "data": {
      "text/plain": [
       "<matplotlib.axes._subplots.AxesSubplot at 0x41846668>"
      ]
     },
     "execution_count": 10,
     "metadata": {},
     "output_type": "execute_result"
    },
    {
     "data": {
      "image/png": "[encoded data removed]",
      "text/plain": [
       "<matplotlib.figure.Figure at 0x19ec6b70>"
      ]
     },
     "metadata": {},
     "output_type": "display_data"
    }
   ],
   "source": [
    "#America!\n",
    "data.country.value_counts().plot(kind='bar')"
   ]
  },
  {
   "cell_type": "markdown",
   "metadata": {},
   "source": [
    "## Feature Engineering"
   ]
  },
  {
   "cell_type": "code",
   "execution_count": 11,
   "metadata": {
    "collapsed": true
   },
   "outputs": [],
   "source": [
    "#since all of the records have a conversion rate, we will \n",
    "#multiply the goal (in USD) by the conversion rate to convert to US dollars\n",
    "data['goal_usd'] = data['goal']*data['static_usd_rate']"
   ]
  },
  {
   "cell_type": "code",
   "execution_count": 12,
   "metadata": {
    "collapsed": true
   },
   "outputs": [],
   "source": [
    "#parse out the category...\n",
    "def parse_categories(flag, string):\n",
    "    beg_pos = string.find('categories')+11\n",
    "    end_pos = string.find('}}')\n",
    "    if flag == 'prim':\n",
    "        return string[beg_pos:end_pos].split('/')[0].replace('%20', ' ')\n",
    "    elif flag == 'sub':\n",
    "        return string[beg_pos:end_pos].split('/')[1].replace('%20', ' ').replace('\"','')\n",
    "\n",
    "#run string parsing function to extract the primary category\n",
    "data['primary_category'] = data.apply(lambda row: parse_categories('prim', row['category']), axis=1)\n",
    "\n",
    "#run the string parsing function to extract the sub category\n",
    "data['sub_category'] = data.apply(lambda row: parse_categories('sub', row['category']), axis=1)"
   ]
  },
  {
   "cell_type": "code",
   "execution_count": 14,
   "metadata": {
    "collapsed": true
   },
   "outputs": [],
   "source": [
    "#parse out the locations...\n",
    "def parse_location(flag, string):\n",
    "    if string != string:\n",
    "        return 'N/A'\n",
    "    beg_pos = string.find('displayable_name')+19\n",
    "    end_pos = string.find('short_name')-3\n",
    "\n",
    "    if string[beg_pos:end_pos].find(',') == -1:\n",
    "        return string[beg_pos:end_pos]\n",
    "    elif flag == \"state\":\n",
    "        return string[beg_pos:end_pos].split(',')[1]\n",
    "    elif flag == 'city':\n",
    "        return string[beg_pos:end_pos].split(',')[0]\n",
    "\n",
    "#run string parsing function to extract the state\n",
    "data['state'] = data.apply(lambda row: parse_location('state', row['location']), axis=1)\n",
    "\n",
    "#run string parsing function to extract the city\n",
    "data['city'] = data.apply(lambda row: parse_location('city', row['location']), axis=1)"
   ]
  },
  {
   "cell_type": "code",
   "execution_count": 15,
   "metadata": {
    "collapsed": true
   },
   "outputs": [],
   "source": [
    "#make a feature for the number of keywords\n",
    "data['blurb_word_count'] = np.where(data.blurb.str.count('-').isnull(), 0, data.blurb.str.count('-')+1)\n",
    "\n",
    "#make a feature for the number of words in the name\n",
    "data['name_word_count'] = np.where(data.name.str.count(' ').isnull(), 0, data.name.str.count('-')+1)"
   ]
  },
  {
   "cell_type": "code",
   "execution_count": 16,
   "metadata": {
    "collapsed": true
   },
   "outputs": [],
   "source": [
    "#use the dictionary to define the season...\n",
    "season_conversion = ({1:'winter', 2:'winter', 3:'spring', 4:'spring', 5:'spring', 6:'summer', 7:'summer', 8:'summer',\n",
    "                      9:'fall', 10:'fall', 11:'fall', 12:'winter'})\n",
    "\n",
    "#format the columns from UNIX to \"yyyy-mm-dd hour:minute:second\"\n",
    "date_columns = ['deadline', 'created_at', 'launched_at']\n",
    "for col in date_columns:\n",
    "    data[col] = pd.to_datetime(data[col],unit='s')\n",
    "    #set hour\n",
    "    data[col+'_time'] = data[col].dt.hour\n",
    "    #TODO DAYTIME!\n",
    "    #TODO Time start and deadline difference\n",
    "    #set day of the week\n",
    "    data[col+'_day_of_week'] = data[col].dt.weekday\n",
    "    #set month\n",
    "    data[col+'_month'] = data[col].dt.month\n",
    "    #set seasons using lookup and replace methodtrain.deadline_season.value_counts().plot(kind='bar')\n",
    "    data[col+'_season'] = data[col+'_month']\n",
    "    data[col+'_season'].replace(season_conversion, inplace=True)"
   ]
  },
  {
   "cell_type": "code",
   "execution_count": 17,
   "metadata": {
    "collapsed": true
   },
   "outputs": [],
   "source": [
    "#add features to get difference between project start and end time and project launch and end time\n",
    "data['total_project_time'] = (data.deadline - data.created_at ).dt.days\n",
    "data['total_active_time'] = (data.deadline - data.launched_at ).dt.days"
   ]
  },
  {
   "cell_type": "code",
   "execution_count": 18,
   "metadata": {
    "collapsed": true
   },
   "outputs": [],
   "source": [
    "#add features to calculate the dollars per day needed to achieve goal\n",
    "data['goal_per_day_project'] = data.goal_usd / data.total_project_time\n",
    "data['goal_per_day_active'] = data.goal_usd / data.total_active_time"
   ]
  },
  {
   "cell_type": "code",
   "execution_count": 90,
   "metadata": {},
   "outputs": [],
   "source": [
    "dummy_features =['country','currency', 'staff_pick', 'deadline_day_of_week','deadline_month', \n",
    "                 'deadline_season', 'deadline_time', 'created_at_month', 'created_at_season', 'launched_at_time', \n",
    "                 'launched_at_day_of_week', 'launched_at_month', 'launched_at_season', 'primary_category', 'state']\n",
    "\n",
    "nlp_features = ['combined_title']\n",
    "\n",
    "continous_feature_columns = ['goal_usd', 'state_num', 'total_project_time', 'total_active_time', 'goal_per_day_project', \n",
    "                             'goal_per_day_active','name_word_count', 'blurb_word_count']\n",
    "\n",
    "\n",
    "mr_data = data.filter(items=dummy_features)\n",
    "\n",
    "for feature in dummy_features:\n",
    "    mr_data = mr_data.join(pd.get_dummies(mr_data[feature], prefix=feature, drop_first=True))\n",
    "    mr_data = mr_data.drop(feature, axis=1)\n",
    "    \n",
    "for feature in continous_feature_columns:\n",
    "    mr_data = mr_data.join(data[feature])\n",
    "\n",
    "for feature in nlp_features:\n",
    "    mr_data = mr_data.join(data[feature])\n",
    "\n",
    "mr_data = mr_data[mr_data.combined_title.isnull() == False]"
   ]
  },
  {
   "cell_type": "code",
   "execution_count": 98,
   "metadata": {},
   "outputs": [],
   "source": [
    "y = mr_data['state_num']\n",
    "X = mr_data.drop('state_num', axis=1)\n",
    "\n",
    "X_train, X_test, y_train, y_test = train_test_split(X, y, random_state=34)"
   ]
  },
  {
   "cell_type": "code",
   "execution_count": 106,
   "metadata": {},
   "outputs": [],
   "source": [
    "#Create bag of words, removing stop word and making lowercase\n",
    "vect = CountVectorizer(lowercase=True, stop_words='english') # note, using Lemmization did not help!!\n",
    "X_train_dtm = vect.fit_transform(X_train.combined_title)\n",
    "X_test_dtm = vect.transform(X_test.combined_title)\n"
   ]
  },
  {
   "cell_type": "code",
   "execution_count": 144,
   "metadata": {},
   "outputs": [
    {
     "data": {
      "text/plain": [
       "(123711, 677)"
      ]
     },
     "execution_count": 144,
     "metadata": {},
     "output_type": "execute_result"
    }
   ],
   "source": [
    "# Cast other feature columns to float and convert to a sparse matrix.\n",
    "extra = sp.sparse.csr_matrix(X_train.drop('combined_title', axis=1).astype(float))\n",
    "extra.shape\n"
   ]
  },
  {
   "cell_type": "code",
   "execution_count": 145,
   "metadata": {},
   "outputs": [
    {
     "data": {
      "text/plain": [
       "(123711, 108198)"
      ]
     },
     "execution_count": 145,
     "metadata": {},
     "output_type": "execute_result"
    }
   ],
   "source": [
    "# Combine sparse matrices.\n",
    "X_train_dtm_extra = sp.sparse.hstack((X_train_dtm, extra))\n",
    "X_train_dtm_extra.shape"
   ]
  },
  {
   "cell_type": "code",
   "execution_count": 147,
   "metadata": {},
   "outputs": [
    {
     "data": {
      "text/plain": [
       "(41237, 108198)"
      ]
     },
     "execution_count": 147,
     "metadata": {},
     "output_type": "execute_result"
    }
   ],
   "source": [
    "# Repeat for testing set.\n",
    "extra = sp.sparse.csr_matrix(X_test.drop('combined_title', axis=1).astype(float))\n",
    "X_test_dtm_extra = sp.sparse.hstack((X_test_dtm, extra))\n",
    "X_test_dtm_extra.shape"
   ]
  },
  {
   "cell_type": "code",
   "execution_count": 148,
   "metadata": {},
   "outputs": [
    {
     "name": "stdout",
     "output_type": "stream",
     "text": [
      "0.655479302568\n"
     ]
    }
   ],
   "source": [
    "logreg = LogisticRegression(C=1e9)\n",
    "logreg.fit(X_train_dtm, y_train)\n",
    "y_pred_class = logreg.predict(X_test_dtm)\n",
    "print(metrics.accuracy_score(y_test, y_pred_class))"
   ]
  },
  {
   "cell_type": "code",
   "execution_count": 149,
   "metadata": {},
   "outputs": [
    {
     "name": "stdout",
     "output_type": "stream",
     "text": [
      "0.564662802823\n"
     ]
    }
   ],
   "source": [
    "# Use logistic regression with all features.\n",
    "logreg = LogisticRegression(C=1e9)\n",
    "logreg.fit(X_train_dtm_extra, y_train)\n",
    "y_pred_class = logreg.predict(X_test_dtm_extra)\n",
    "print(metrics.accuracy_score(y_test, y_pred_class))"
   ]
  },
  {
   "cell_type": "code",
   "execution_count": 150,
   "metadata": {},
   "outputs": [
    {
     "data": {
      "text/plain": [
       "(123711, 108198)"
      ]
     },
     "execution_count": 150,
     "metadata": {},
     "output_type": "execute_result"
    }
   ],
   "source": [
    "X_train_dtm_extra.shape"
   ]
  },
  {
   "cell_type": "code",
   "execution_count": 152,
   "metadata": {},
   "outputs": [
    {
     "data": {
      "text/plain": [
       "(123711, 107521)"
      ]
     },
     "execution_count": 152,
     "metadata": {},
     "output_type": "execute_result"
    }
   ],
   "source": [
    "X_train_dtm.shape"
   ]
  },
  {
   "cell_type": "code",
   "execution_count": 176,
   "metadata": {},
   "outputs": [
    {
     "name": "stdout",
     "output_type": "stream",
     "text": [
      "2017-09-20 20:40:35.635000\n",
      "~~~~~~~~~~~~~~~~~~~~~~~\n",
      "Total time: 0:09:55.807000\n",
      "Accuracy: 0.752916070519\n",
      "Confusion Matrix: \n",
      "[[18130  4077]\n",
      " [ 6112 12918]]\n",
      "2017-09-20 20:50:33.303000\n",
      "~~~~~~~~~~~~~~~~~~~~~~~\n",
      "Total time: 0:14:49.376000\n",
      "Accuracy: 0.758420835657\n",
      "Confusion Matrix: \n",
      "[[17816  4391]\n",
      " [ 5571 13459]]\n",
      "2017-09-20 21:05:25.613000\n",
      "~~~~~~~~~~~~~~~~~~~~~~~\n",
      "Total time: 0:18:49.908000\n",
      "Accuracy: 0.759487838592\n",
      "Confusion Matrix: \n",
      "[[17999  4208]\n",
      " [ 5710 13320]]\n",
      "2017-09-20 21:24:19.026000\n",
      "~~~~~~~~~~~~~~~~~~~~~~~\n",
      "Total time: 0:23:02.673000\n",
      "Accuracy: 0.760942842593\n",
      "Confusion Matrix: \n",
      "[[17892  4315]\n",
      " [ 5543 13487]]\n",
      "2017-09-20 21:47:25.974000\n",
      "~~~~~~~~~~~~~~~~~~~~~~~\n",
      "Total time: 0:27:19.109000\n",
      "Accuracy: 0.76140359386\n",
      "Confusion Matrix: \n",
      "[[17990  4217]\n",
      " [ 5622 13408]]\n",
      "2017-09-20 22:14:50.219000\n",
      "~~~~~~~~~~~~~~~~~~~~~~~\n",
      "Total time: 0:32:11.070000\n",
      "Accuracy: 0.763440599462\n",
      "Confusion Matrix: \n",
      "[[17907  4300]\n",
      " [ 5455 13575]]\n",
      "2017-09-20 22:47:07.367000\n",
      "~~~~~~~~~~~~~~~~~~~~~~~\n",
      "Total time: 0:36:53.790000\n",
      "Accuracy: 0.761815844994\n",
      "Confusion Matrix: \n",
      "[[17973  4234]\n",
      " [ 5588 13442]]\n",
      "2017-09-20 23:24:07.892000\n",
      "~~~~~~~~~~~~~~~~~~~~~~~\n",
      "Total time: 0:41:28.912000\n",
      "Accuracy: 0.763416349395\n",
      "Confusion Matrix: \n",
      "[[17942  4265]\n",
      " [ 5491 13539]]\n",
      "2017-09-21 00:05:44.404000\n",
      "~~~~~~~~~~~~~~~~~~~~~~~\n",
      "Total time: 0:45:45.442000\n",
      "Accuracy: 0.764725852996\n",
      "Confusion Matrix: \n",
      "[[17974  4233]\n",
      " [ 5469 13561]]\n",
      "2017-09-21 00:51:38.318000\n",
      "~~~~~~~~~~~~~~~~~~~~~~~\n",
      "Total time: 0:50:11.368000\n",
      "Accuracy: 0.764895603463\n",
      "Confusion Matrix: \n",
      "[[17967  4240]\n",
      " [ 5455 13575]]\n"
     ]
    }
   ],
   "source": [
    "#try different n_estimators\n",
    "estimators = range (50, 300, 25)\n",
    "for estimator in estimators:\n",
    "    start_time = datetime.now()\n",
    "    print start_time    \n",
    "    rfclass = RandomForestClassifier(n_estimators=estimator)\n",
    "    rfclass.fit(X_train_dtm_extra, y_train)\n",
    "    end_time = datetime.now()\n",
    "    print '~~~~~~~~~~~~~~~~~~~~~~~'\n",
    "    print 'Total time: '+ str(end_time-start_time)\n",
    "    y_pred_class = rfclass.predict(X_test_dtm_extra) \n",
    "    print 'Accuracy: '+ str(metrics.accuracy_score(y_test, y_pred_class))\n",
    "    print 'Confusion Matrix: '\n",
    "    print metrics.confusion_matrix(y_test, y_pred_class)"
   ]
  },
  {
   "cell_type": "code",
   "execution_count": null,
   "metadata": {
    "collapsed": true
   },
   "outputs": [],
   "source": []
  }
 ],
 "metadata": {
  "kernelspec": {
   "display_name": "Python 2",
   "language": "python",
   "name": "python2"
  },
  "language_info": {
   "codemirror_mode": {
    "name": "ipython",
    "version": 2
   },
   "file_extension": ".py",
   "mimetype": "text/x-python",
   "name": "python",
   "nbconvert_exporter": "python",
   "pygments_lexer": "ipython2",
   "version": "2.7.13"
  }
 },
 "nbformat": 4,
 "nbformat_minor": 2
}
