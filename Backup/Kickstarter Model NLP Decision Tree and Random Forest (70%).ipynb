{
 "cells": [
  {
   "cell_type": "markdown",
   "metadata": {},
   "source": [
    "# Kickstarter Launches... Let's predict the outcome!\n",
    "### https://www.kaggle.com/codename007/funding-successful-projects\n",
    "### https://webrobots.io/kickstarter-datasets/\n"
   ]
  },
  {
   "cell_type": "code",
   "execution_count": 124,
   "metadata": {
    "collapsed": true
   },
   "outputs": [],
   "source": [
    "import pandas as pd\n",
    "pd.options.display.float_format = '{:20,.2f}'.format\n",
    "import numpy as np\n",
    "from numpy.random import seed, randint\n",
    "import matplotlib.pyplot as plt\n",
    "import seaborn as sns\n",
    "import datetime    \n",
    "import dateutil.parser\n",
    "import zipfile\n",
    "import math\n",
    "\n",
    "#modeling \n",
    "import scipy as sp\n",
    "from sklearn.model_selection import train_test_split\n",
    "from sklearn.feature_extraction.text import CountVectorizer, TfidfVectorizer\n",
    "from sklearn.naive_bayes import MultinomialNB         # Naive Bayes\n",
    "from sklearn.linear_model import LogisticRegression\n",
    "from sklearn.tree import DecisionTreeClassifier\n",
    "from sklearn.ensemble import RandomForestClassifier\n",
    "from sklearn import metrics\n",
    "\n",
    "from textblob import TextBlob, Word\n",
    "from nltk.stem.snowball import SnowballStemmer\n",
    "\n",
    "#natural language processing\n",
    "from textblob import TextBlob, Word\n",
    "\n",
    "from sklearn_pandas import DataFrameMapper\n",
    "\n",
    "\n",
    "plt.style.use('fivethirtyeight')\n",
    "%matplotlib inline"
   ]
  },
  {
   "cell_type": "markdown",
   "metadata": {},
   "source": [
    "## Get Data "
   ]
  },
  {
   "cell_type": "code",
   "execution_count": 125,
   "metadata": {},
   "outputs": [
    {
     "name": "stdout",
     "output_type": "stream",
     "text": [
      "(169832, 32)\n"
     ]
    }
   ],
   "source": [
    "# The following opens a zip file, returns all the contents in the zip file (csvs), \n",
    "# and concats the files into a single dataframe\n",
    "\n",
    "flag=0 # flag is used to to track the first instance to build an intial data frame called \"data\"\n",
    "with zipfile.ZipFile('./Data/Kickstarter_2017-08-15T22_20_51_958Z.zip') as z:\n",
    "    files = z.namelist()\n",
    "    # loop through each file\n",
    "    for f in files:\n",
    "    #if first instance, build initial data frame called data\n",
    "        with z.open(f) as f:\n",
    "            if flag == 0:\n",
    "                data = pd.DataFrame.from_csv(f)\n",
    "                flag += 1\n",
    "            else:\n",
    "    #if data already exisits, we concat future csvs\n",
    "                df = pd.DataFrame.from_csv(f)\n",
    "                data = pd.concat([data, df])\n",
    "\n",
    "            \n",
    "# to validate that we have the data!\n",
    "print data.shape\n",
    "data = data.set_index([range(0, len(data))])"
   ]
  },
  {
   "cell_type": "code",
   "execution_count": 126,
   "metadata": {},
   "outputs": [
    {
     "data": {
      "text/plain": [
       "<matplotlib.axes._subplots.AxesSubplot at 0x6ced8c18>"
      ]
     },
     "execution_count": 126,
     "metadata": {},
     "output_type": "execute_result"
    },
    {
     "data": {
      "image/png": "[encoded data removed]",
      "text/plain": [
       "<matplotlib.figure.Figure at 0x371a3080>"
      ]
     },
     "metadata": {},
     "output_type": "display_data"
    }
   ],
   "source": [
    "#exploring the target variable 'state\n",
    "#take note that projects not only fail or succeed, they can also be cancelled, live, or suspended...\n",
    "data.state.value_counts().plot(kind='bar', rot='0')"
   ]
  },
  {
   "cell_type": "code",
   "execution_count": 127,
   "metadata": {},
   "outputs": [
    {
     "data": {
      "text/plain": [
       "<matplotlib.axes._subplots.AxesSubplot at 0x47f4f6d8>"
      ]
     },
     "execution_count": 127,
     "metadata": {},
     "output_type": "execute_result"
    },
    {
     "data": {
      "image/png": "[encoded data removed]",
      "text/plain": [
       "<matplotlib.figure.Figure at 0xe3e66358>"
      ]
     },
     "metadata": {},
     "output_type": "display_data"
    }
   ],
   "source": [
    "#let's encode the state variable\n",
    "#we don't need live or suspended projects since they are ongoing\n",
    "data= data[(data.state != 'live') & (data.state != 'suspended')]\n",
    "\n",
    "# we will count a canceled project as failed\n",
    "# use map to code the outcome variable\n",
    "data['state_num'] = data.state.map({'failed':0, 'successful': 1, 'canceled': 0})\n",
    "data.state_num.value_counts().plot(kind='bar')"
   ]
  },
  {
   "cell_type": "markdown",
   "metadata": {},
   "source": [
    "## NLP Model"
   ]
  },
  {
   "cell_type": "code",
   "execution_count": 128,
   "metadata": {
    "collapsed": true
   },
   "outputs": [],
   "source": [
    "#Final preparation of data to remove null values\n",
    "data = data[data.name.isnull() == False]\n",
    "data = data[data.blurb.isnull() == False]\n",
    "# Noticed better results when we combined the project name and the blurb\n",
    "data['combined'] = data['blurb'] + ' _ ' +data['name']\n",
    "# Define X and y\n",
    "X = data['combined']\n",
    "y = data.state_num\n",
    "\n",
    "# Split the new DataFrame into training and testing sets.\n",
    "X_train, X_test, y_train, y_test = train_test_split(X, y, random_state=1)\n",
    "\n",
    "#Create bag of words, removing stop word and making lowercase\n",
    "vect = CountVectorizer(lowercase=True, stop_words='english')\n",
    "# note, using Lemmization did not help!!\n",
    "X_train_dtm = vect.fit_transform(X_train)\n",
    "X_test_dtm = vect.transform(X_test)"
   ]
  },
  {
   "cell_type": "code",
   "execution_count": 129,
   "metadata": {},
   "outputs": [
    {
     "name": "stdout",
     "output_type": "stream",
     "text": [
      "~~~~~~~~~~~~~~~~\n",
      "Depth: 60\n",
      "Accuracy: 0.651139742319\n",
      "Baseline: 0.460562256762\n",
      "[[17735  4581]\n",
      " [ 9851  9202]]\n"
     ]
    },
    {
     "data": {
      "text/plain": [
       "<matplotlib.text.Text at 0x6908f470>"
      ]
     },
     "execution_count": 129,
     "metadata": {},
     "output_type": "execute_result"
    },
    {
     "data": {
      "image/png": "[encoded data removed]",
      "text/plain": [
       "<matplotlib.figure.Figure at 0x62bdfef0>"
      ]
     },
     "metadata": {},
     "output_type": "display_data"
    }
   ],
   "source": [
    "#run decision tree model with depth of 60 (determined 60 based on trial runs)\n",
    "treeclf = DecisionTreeClassifier(max_depth=60, random_state=2)\n",
    "treeclf.fit(X_train_dtm, y_train)\n",
    "y_pred_class = treeclf.predict(X_test_dtm)\n",
    "\n",
    "# Calculate accuracy.\n",
    "print '~~~~~~~~~~~~~~~~'\n",
    "print 'Depth: ' + str(x)\n",
    "print 'Accuracy: ' + str(metrics.accuracy_score(y_test, y_pred_class))\n",
    "print 'Baseline: ' + str(y_test.mean())\n",
    "print metrics.confusion_matrix(y_test, y_pred_class)\n",
    "\n",
    "#plot the confusion matrix\n",
    "plt.matshow(metrics.confusion_matrix(y_test, y_pred_class), cmap=plt.cm.binary, interpolation='nearest')\n",
    "plt.title('confusion matrix')\n",
    "plt.colorbar()\n",
    "plt.ylabel('expected label')\n",
    "plt.xlabel('predicted label')\n"
   ]
  },
  {
   "cell_type": "code",
   "execution_count": 131,
   "metadata": {},
   "outputs": [
    {
     "name": "stdout",
     "output_type": "stream",
     "text": [
      "~~~~~~~~~~~~~~~~\n",
      "Accuracy: 0.699702675917\n",
      "Baseline: 0.460562256762\n",
      "[[16962  5354]\n",
      " [ 7069 11984]]\n",
      "0:25:26.127000\n"
     ]
    },
    {
     "data": {
      "image/png": "[encoded data removed]",
      "text/plain": [
       "<matplotlib.figure.Figure at 0x48a79da0>"
      ]
     },
     "metadata": {},
     "output_type": "display_data"
    }
   ],
   "source": [
    "# Initialize a Random Forest classifier with 100 trees\n",
    "from datetime import datetime\n",
    "startTime = datetime.now()\n",
    "print startTime\n",
    "forest = RandomForestClassifier(n_estimators = 100) \n",
    "\n",
    "# Fit the forest to the training set, using the bag of words as the only feature \n",
    "forest = forest.fit( X_train_dtm, y_train )\n",
    "y_pred_class = forest.predict(X_test_dtm)\n",
    "metrics.accuracy_score(y_test, y_pred_class)\n",
    "\n",
    "# Calculate accuracy.\n",
    "print '~~~~~~~~~~~~~~~~'\n",
    "print 'Accuracy: ' + str(metrics.accuracy_score(y_test, y_pred_class))\n",
    "print 'Baseline: ' + str(y_test.mean())\n",
    "print metrics.confusion_matrix(y_test, y_pred_class)\n",
    "\n",
    "#plot the confusion matrix\n",
    "plt.matshow(metrics.confusion_matrix(y_test, y_pred_class), cmap=plt.cm.binary, interpolation='nearest')\n",
    "plt.title('confusion matrix')\n",
    "plt.colorbar()\n",
    "plt.ylabel('expected label')\n",
    "plt.xlabel('predicted label')\n",
    "\n",
    "#track how long it took the model to run\n",
    "total_time = datetime.now() - startTime\n",
    "print total_time"
   ]
  },
  {
   "cell_type": "code",
   "execution_count": null,
   "metadata": {
    "collapsed": true
   },
   "outputs": [],
   "source": []
  }
 ],
 "metadata": {
  "kernelspec": {
   "display_name": "Python 2",
   "language": "python",
   "name": "python2"
  },
  "language_info": {
   "codemirror_mode": {
    "name": "ipython",
    "version": 2
   },
   "file_extension": ".py",
   "mimetype": "text/x-python",
   "name": "python",
   "nbconvert_exporter": "python",
   "pygments_lexer": "ipython2",
   "version": "2.7.13"
  }
 },
 "nbformat": 4,
 "nbformat_minor": 2
}
